{
 "cells": [
  {
   "cell_type": "markdown",
   "id": "9d3d45a7",
   "metadata": {},
   "source": [
    "Machine Learning Project -\n",
    "Step1 : Data Pre-Processing"
   ]
  },
  {
   "cell_type": "code",
   "execution_count": 47,
   "id": "9c2a67fa",
   "metadata": {},
   "outputs": [],
   "source": [
    "#Importing numpy and pandas libraries for data manipulation\n",
    "import numpy as np\n",
    "from pandas import read_csv"
   ]
  },
  {
   "cell_type": "code",
   "execution_count": 48,
   "id": "63bdc479",
   "metadata": {},
   "outputs": [],
   "source": [
    "#Location of the dataset\n",
    "filepath = 'Dataset/sales.csv'"
   ]
  },
  {
   "cell_type": "code",
   "execution_count": 49,
   "id": "f5a61856",
   "metadata": {},
   "outputs": [],
   "source": [
    "#Loading the data in a dataframe\n",
    "df = read_csv(filepath) "
   ]
  },
  {
   "cell_type": "code",
   "execution_count": 50,
   "id": "bb8c36f5",
   "metadata": {},
   "outputs": [
    {
     "data": {
      "text/html": [
       "<div>\n",
       "<style scoped>\n",
       "    .dataframe tbody tr th:only-of-type {\n",
       "        vertical-align: middle;\n",
       "    }\n",
       "\n",
       "    .dataframe tbody tr th {\n",
       "        vertical-align: top;\n",
       "    }\n",
       "\n",
       "    .dataframe thead th {\n",
       "        text-align: right;\n",
       "    }\n",
       "</style>\n",
       "<table border=\"1\" class=\"dataframe\">\n",
       "  <thead>\n",
       "    <tr style=\"text-align: right;\">\n",
       "      <th></th>\n",
       "      <th>rate</th>\n",
       "      <th>sales_in_first_month</th>\n",
       "      <th>sales_in_second_month</th>\n",
       "      <th>sales_in_third_month</th>\n",
       "    </tr>\n",
       "  </thead>\n",
       "  <tbody>\n",
       "    <tr>\n",
       "      <th>0</th>\n",
       "      <td>NaN</td>\n",
       "      <td>2</td>\n",
       "      <td>500</td>\n",
       "      <td>300</td>\n",
       "    </tr>\n",
       "    <tr>\n",
       "      <th>1</th>\n",
       "      <td>NaN</td>\n",
       "      <td>4</td>\n",
       "      <td>300</td>\n",
       "      <td>650</td>\n",
       "    </tr>\n",
       "    <tr>\n",
       "      <th>2</th>\n",
       "      <td>four</td>\n",
       "      <td>600</td>\n",
       "      <td>200</td>\n",
       "      <td>400</td>\n",
       "    </tr>\n",
       "    <tr>\n",
       "      <th>3</th>\n",
       "      <td>nine</td>\n",
       "      <td>450</td>\n",
       "      <td>320</td>\n",
       "      <td>650</td>\n",
       "    </tr>\n",
       "    <tr>\n",
       "      <th>4</th>\n",
       "      <td>seven</td>\n",
       "      <td>600</td>\n",
       "      <td>250</td>\n",
       "      <td>350</td>\n",
       "    </tr>\n",
       "  </tbody>\n",
       "</table>\n",
       "</div>"
      ],
      "text/plain": [
       "    rate  sales_in_first_month  sales_in_second_month  sales_in_third_month\n",
       "0    NaN                     2                    500                   300\n",
       "1    NaN                     4                    300                   650\n",
       "2   four                   600                    200                   400\n",
       "3   nine                   450                    320                   650\n",
       "4  seven                   600                    250                   350"
      ]
     },
     "execution_count": 50,
     "metadata": {},
     "output_type": "execute_result"
    }
   ],
   "source": [
    "# Display the first five rows of the dataset\n",
    "df.head()"
   ]
  },
  {
   "cell_type": "code",
   "execution_count": 51,
   "id": "bb171584",
   "metadata": {},
   "outputs": [
    {
     "data": {
      "text/plain": [
       "(6, 4)"
      ]
     },
     "execution_count": 51,
     "metadata": {},
     "output_type": "execute_result"
    }
   ],
   "source": [
    "# Display the shape of the dataset\n",
    "df.shape    "
   ]
  },
  {
   "cell_type": "code",
   "execution_count": 52,
   "id": "d373b258",
   "metadata": {},
   "outputs": [
    {
     "data": {
      "text/plain": [
       "rate                     2\n",
       "sales_in_first_month     0\n",
       "sales_in_second_month    0\n",
       "sales_in_third_month     0\n",
       "dtype: int64"
      ]
     },
     "execution_count": 52,
     "metadata": {},
     "output_type": "execute_result"
    }
   ],
   "source": [
    "#Checking for null values in the dataset\n",
    "df.isnull().sum()"
   ]
  },
  {
   "cell_type": "code",
   "execution_count": 53,
   "id": "5599df1e",
   "metadata": {},
   "outputs": [
    {
     "name": "stdout",
     "output_type": "stream",
     "text": [
      "<class 'pandas.core.frame.DataFrame'>\n",
      "RangeIndex: 6 entries, 0 to 5\n",
      "Data columns (total 4 columns):\n",
      " #   Column                 Non-Null Count  Dtype \n",
      "---  ------                 --------------  ----- \n",
      " 0   rate                   4 non-null      object\n",
      " 1   sales_in_first_month   6 non-null      int64 \n",
      " 2   sales_in_second_month  6 non-null      int64 \n",
      " 3   sales_in_third_month   6 non-null      int64 \n",
      "dtypes: int64(3), object(1)\n",
      "memory usage: 324.0+ bytes\n"
     ]
    }
   ],
   "source": [
    "df.info()"
   ]
  },
  {
   "cell_type": "code",
   "execution_count": 54,
   "id": "e59d1780",
   "metadata": {},
   "outputs": [
    {
     "data": {
      "text/plain": [
       "sales_in_first_month     367.666667\n",
       "sales_in_second_month    295.000000\n",
       "sales_in_third_month     508.333333\n",
       "dtype: float64"
      ]
     },
     "execution_count": 54,
     "metadata": {},
     "output_type": "execute_result"
    }
   ],
   "source": [
    "# mean of all numerical columns\n",
    "df.mean(numeric_only=True)"
   ]
  },
  {
   "cell_type": "code",
   "execution_count": 57,
   "id": "49d3e64d",
   "metadata": {},
   "outputs": [],
   "source": [
    "# Filling missing values with mean of respective columns\n",
    "df['rate'].fillna(0, inplace=True)  "
   ]
  },
  {
   "cell_type": "code",
   "execution_count": 56,
   "id": "42ffd1bf",
   "metadata": {},
   "outputs": [
    {
     "data": {
      "text/html": [
       "<div>\n",
       "<style scoped>\n",
       "    .dataframe tbody tr th:only-of-type {\n",
       "        vertical-align: middle;\n",
       "    }\n",
       "\n",
       "    .dataframe tbody tr th {\n",
       "        vertical-align: top;\n",
       "    }\n",
       "\n",
       "    .dataframe thead th {\n",
       "        text-align: right;\n",
       "    }\n",
       "</style>\n",
       "<table border=\"1\" class=\"dataframe\">\n",
       "  <thead>\n",
       "    <tr style=\"text-align: right;\">\n",
       "      <th></th>\n",
       "      <th>rate</th>\n",
       "      <th>sales_in_first_month</th>\n",
       "      <th>sales_in_second_month</th>\n",
       "      <th>sales_in_third_month</th>\n",
       "    </tr>\n",
       "  </thead>\n",
       "  <tbody>\n",
       "    <tr>\n",
       "      <th>0</th>\n",
       "      <td>0</td>\n",
       "      <td>2</td>\n",
       "      <td>500</td>\n",
       "      <td>300</td>\n",
       "    </tr>\n",
       "    <tr>\n",
       "      <th>1</th>\n",
       "      <td>0</td>\n",
       "      <td>4</td>\n",
       "      <td>300</td>\n",
       "      <td>650</td>\n",
       "    </tr>\n",
       "    <tr>\n",
       "      <th>2</th>\n",
       "      <td>four</td>\n",
       "      <td>600</td>\n",
       "      <td>200</td>\n",
       "      <td>400</td>\n",
       "    </tr>\n",
       "    <tr>\n",
       "      <th>3</th>\n",
       "      <td>nine</td>\n",
       "      <td>450</td>\n",
       "      <td>320</td>\n",
       "      <td>650</td>\n",
       "    </tr>\n",
       "    <tr>\n",
       "      <th>4</th>\n",
       "      <td>seven</td>\n",
       "      <td>600</td>\n",
       "      <td>250</td>\n",
       "      <td>350</td>\n",
       "    </tr>\n",
       "  </tbody>\n",
       "</table>\n",
       "</div>"
      ],
      "text/plain": [
       "    rate  sales_in_first_month  sales_in_second_month  sales_in_third_month\n",
       "0      0                     2                    500                   300\n",
       "1      0                     4                    300                   650\n",
       "2   four                   600                    200                   400\n",
       "3   nine                   450                    320                   650\n",
       "4  seven                   600                    250                   350"
      ]
     },
     "execution_count": 56,
     "metadata": {},
     "output_type": "execute_result"
    }
   ],
   "source": [
    "df.head()"
   ]
  },
  {
   "cell_type": "markdown",
   "id": "01b465e9",
   "metadata": {},
   "source": [
    "Step 2 - Feature selection"
   ]
  },
  {
   "cell_type": "code",
   "execution_count": 58,
   "id": "5231f4a2",
   "metadata": {},
   "outputs": [],
   "source": [
    "# Feature Selection\n",
    "X = df.iloc[:, :3]\n",
    "y = df.iloc[:, -1]"
   ]
  },
  {
   "cell_type": "code",
   "execution_count": 59,
   "id": "d26ce6ea",
   "metadata": {},
   "outputs": [
    {
     "data": {
      "text/html": [
       "<div>\n",
       "<style scoped>\n",
       "    .dataframe tbody tr th:only-of-type {\n",
       "        vertical-align: middle;\n",
       "    }\n",
       "\n",
       "    .dataframe tbody tr th {\n",
       "        vertical-align: top;\n",
       "    }\n",
       "\n",
       "    .dataframe thead th {\n",
       "        text-align: right;\n",
       "    }\n",
       "</style>\n",
       "<table border=\"1\" class=\"dataframe\">\n",
       "  <thead>\n",
       "    <tr style=\"text-align: right;\">\n",
       "      <th></th>\n",
       "      <th>rate</th>\n",
       "      <th>sales_in_first_month</th>\n",
       "      <th>sales_in_second_month</th>\n",
       "    </tr>\n",
       "  </thead>\n",
       "  <tbody>\n",
       "    <tr>\n",
       "      <th>0</th>\n",
       "      <td>0</td>\n",
       "      <td>2</td>\n",
       "      <td>500</td>\n",
       "    </tr>\n",
       "    <tr>\n",
       "      <th>1</th>\n",
       "      <td>0</td>\n",
       "      <td>4</td>\n",
       "      <td>300</td>\n",
       "    </tr>\n",
       "    <tr>\n",
       "      <th>2</th>\n",
       "      <td>four</td>\n",
       "      <td>600</td>\n",
       "      <td>200</td>\n",
       "    </tr>\n",
       "    <tr>\n",
       "      <th>3</th>\n",
       "      <td>nine</td>\n",
       "      <td>450</td>\n",
       "      <td>320</td>\n",
       "    </tr>\n",
       "    <tr>\n",
       "      <th>4</th>\n",
       "      <td>seven</td>\n",
       "      <td>600</td>\n",
       "      <td>250</td>\n",
       "    </tr>\n",
       "  </tbody>\n",
       "</table>\n",
       "</div>"
      ],
      "text/plain": [
       "    rate  sales_in_first_month  sales_in_second_month\n",
       "0      0                     2                    500\n",
       "1      0                     4                    300\n",
       "2   four                   600                    200\n",
       "3   nine                   450                    320\n",
       "4  seven                   600                    250"
      ]
     },
     "execution_count": 59,
     "metadata": {},
     "output_type": "execute_result"
    }
   ],
   "source": [
    "X.head()"
   ]
  },
  {
   "cell_type": "code",
   "execution_count": 60,
   "id": "0c66ff7f",
   "metadata": {},
   "outputs": [
    {
     "data": {
      "text/plain": [
       "0    300\n",
       "1    650\n",
       "2    400\n",
       "3    650\n",
       "4    350\n",
       "Name: sales_in_third_month, dtype: int64"
      ]
     },
     "execution_count": 60,
     "metadata": {},
     "output_type": "execute_result"
    }
   ],
   "source": [
    "y.head()    "
   ]
  },
  {
   "cell_type": "markdown",
   "id": "a8d72ab0",
   "metadata": {},
   "source": [
    "Step 3 - Convert Words to Number"
   ]
  },
  {
   "cell_type": "markdown",
   "id": "fe25e393",
   "metadata": {},
   "source": [
    "Step 4 - Concatenating X and y"
   ]
  },
  {
   "cell_type": "markdown",
   "id": "5370d02f",
   "metadata": {},
   "source": [
    "Step 5 - Train Model and Check Accuracy"
   ]
  },
  {
   "cell_type": "markdown",
   "id": "237ce916",
   "metadata": {},
   "source": [
    "Step 6 - Dump and test a Model"
   ]
  }
 ],
 "metadata": {
  "kernelspec": {
   "display_name": ".venv (3.12.10)",
   "language": "python",
   "name": "python3"
  },
  "language_info": {
   "codemirror_mode": {
    "name": "ipython",
    "version": 3
   },
   "file_extension": ".py",
   "mimetype": "text/x-python",
   "name": "python",
   "nbconvert_exporter": "python",
   "pygments_lexer": "ipython3",
   "version": "3.12.10"
  }
 },
 "nbformat": 4,
 "nbformat_minor": 5
}
